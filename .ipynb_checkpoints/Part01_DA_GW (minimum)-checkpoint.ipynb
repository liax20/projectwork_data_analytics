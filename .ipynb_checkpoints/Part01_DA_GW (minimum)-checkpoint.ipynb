{
 "cells": [
  {
   "cell_type": "markdown",
   "id": "6f506cef",
   "metadata": {},
   "source": [
    "#### (1) Data collection using both, Web Scraping and a Web API.\n",
    "#### (2) Data preparation (e.g. remove missing values and duplicates, create new variables, enrich the data with open data).\n",
    "#### (3) Data storage in a database like sqlite or MySQL.\n",
    "#### (4) Non-graphical and graphical exploratory data analysis (EDA).\n",
    "#### (5) Use of either regression or classification as the modelling method.\n",
    "#### (6) Model evaluation using suitable measures of fit.\n",
    "#### (7) Correct interpretation of model results and measures of fit.\n",
    "#### (8) Making the material (data, Jupyter notebooks, ...) available on Moodle."
   ]
  },
  {
   "cell_type": "code",
   "execution_count": null,
   "id": "f0699210",
   "metadata": {},
   "outputs": [],
   "source": [
    "import\n"
   ]
  },
  {
   "cell_type": "code",
   "execution_count": null,
   "id": "777dcb9d",
   "metadata": {},
   "outputs": [],
   "source": []
  }
 ],
 "metadata": {
  "kernelspec": {
   "display_name": "Python 3 (ipykernel)",
   "language": "python",
   "name": "python3"
  },
  "language_info": {
   "codemirror_mode": {
    "name": "ipython",
    "version": 3
   },
   "file_extension": ".py",
   "mimetype": "text/x-python",
   "name": "python",
   "nbconvert_exporter": "python",
   "pygments_lexer": "ipython3",
   "version": "3.9.7"
  }
 },
 "nbformat": 4,
 "nbformat_minor": 5
}
