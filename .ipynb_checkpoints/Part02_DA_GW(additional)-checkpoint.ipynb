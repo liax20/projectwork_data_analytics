{
 "cells": [
  {
   "cell_type": "markdown",
   "id": "820cbd9a",
   "metadata": {},
   "source": [
    "#### 1) Creativity of implementation (creative is anything not specified in the lessons and exercises).\n",
    "#### (2) Use of a MySQL database for data storage and SQL-queries from within Python.\n",
    "#### (3) Integration and visualization of geographical data.\n",
    "#### (4) Use of a statistical test for the analysis of contingency tables or analysis of variance (ANOVA).\n",
    "#### (5) Use of k-means clustering in addition to the regression or classification model."
   ]
  }
 ],
 "metadata": {
  "kernelspec": {
   "display_name": "Python 3 (ipykernel)",
   "language": "python",
   "name": "python3"
  },
  "language_info": {
   "codemirror_mode": {
    "name": "ipython",
    "version": 3
   },
   "file_extension": ".py",
   "mimetype": "text/x-python",
   "name": "python",
   "nbconvert_exporter": "python",
   "pygments_lexer": "ipython3",
   "version": "3.9.7"
  }
 },
 "nbformat": 4,
 "nbformat_minor": 5
}
