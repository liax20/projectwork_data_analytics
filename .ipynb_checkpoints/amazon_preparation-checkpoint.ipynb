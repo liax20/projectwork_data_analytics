{
 "cells": [
  {
   "cell_type": "markdown",
   "id": "3272230e",
   "metadata": {},
   "source": [
    "# Importing and preparing rental apartments data"
   ]
  },
  {
   "cell_type": "markdown",
   "id": "c0e6a164",
   "metadata": {},
   "source": [
    "## Libraries and settings"
   ]
  },
  {
   "cell_type": "code",
   "execution_count": 2,
   "id": "e3b51c23",
   "metadata": {},
   "outputs": [],
   "source": [
    "# Libraries\n",
    "import os\n",
    "import re\n",
    "import time\n",
    "import fnmatch\n",
    "import numpy as np\n",
    "import pandas as pd\n",
    "\n",
    "# Ignore warnings\n",
    "import warnings\n",
    "warnings.filterwarnings(\"ignore\")"
   ]
  },
  {
   "cell_type": "markdown",
   "id": "2a7bff4a",
   "metadata": {},
   "source": [
    "## Importing data"
   ]
  },
  {
   "cell_type": "code",
   "execution_count": 4,
   "id": "aa8f37dd",
   "metadata": {
    "scrolled": true
   },
   "outputs": [
    {
     "name": "stdout",
     "output_type": "stream",
     "text": [
      "C:\\Workspace_ZHAW\\DA\\test\n",
      "amazon.csv\n"
     ]
    }
   ],
   "source": [
    "# Get current working directory\n",
    "print(os.getcwd())\n",
    "\n",
    "# Show all files in the directory\n",
    "flist = fnmatch.filter(os.listdir('.'), '*.csv')\n",
    "for i in flist:\n",
    "    print(i)\n",
    "\n",
    "# Read the data to a pandas data frame\n",
    "df = pd.read_csv(\"amazon.csv\", sep=',', encoding='utf-8')"
   ]
  },
  {
   "cell_type": "markdown",
   "id": "b95e9f0e",
   "metadata": {},
   "source": [
    "## Count number of rows and columns in the data frame"
   ]
  },
  {
   "cell_type": "code",
   "execution_count": 5,
   "id": "ec7391ad",
   "metadata": {},
   "outputs": [
    {
     "name": "stdout",
     "output_type": "stream",
     "text": [
      "Dimension: (250, 13)\n",
      "Number of rows: 250\n",
      "Number of columns: 13\n"
     ]
    }
   ],
   "source": [
    "# Dimension (rows, columns)\n",
    "print('Dimension:', df.shape)\n",
    "\n",
    "# Number of rows\n",
    "print('Number of rows:', df.shape[0])\n",
    "\n",
    "# Number of columns\n",
    "print('Number of columns:', df.shape[1])"
   ]
  },
  {
   "cell_type": "markdown",
   "id": "ace6d22c",
   "metadata": {},
   "source": [
    "## Get data types (raw-format from web scraping)"
   ]
  },
  {
   "cell_type": "code",
   "execution_count": 6,
   "id": "dd9244a5",
   "metadata": {
    "scrolled": true
   },
   "outputs": [
    {
     "data": {
      "text/plain": [
       "web-scraper-order        object\n",
       "web-scraper-start-url    object\n",
       "single                   object\n",
       "single-href              object\n",
       "title                    object\n",
       "price                    object\n",
       "info                     object\n",
       "rating                   object\n",
       "instock                  object\n",
       "asin                     object\n",
       "bestseller               object\n",
       "dimension                object\n",
       "img1-src                 object\n",
       "dtype: object"
      ]
     },
     "execution_count": 6,
     "metadata": {},
     "output_type": "execute_result"
    }
   ],
   "source": [
    "# Get data types (note that in pandas, a string is referred to as 'object')\n",
    "df.dtypes"
   ]
  },
  {
   "cell_type": "markdown",
   "id": "9ea951fd",
   "metadata": {},
   "source": [
    "## Extract and save relevant information from raw data using regular expressions (regex)"
   ]
  },
  {
   "cell_type": "markdown",
   "id": "7c3be629",
   "metadata": {},
   "source": [
    "### Extract number of rooms"
   ]
  },
  {
   "cell_type": "code",
   "execution_count": 8,
   "id": "1c543c59",
   "metadata": {},
   "outputs": [
    {
     "name": "stdout",
     "output_type": "stream",
     "text": [
      "0    3.5 von 5\n",
      "1    4.7 von 5\n",
      "2    3.9 von 5\n",
      "3    4.6 von 5\n",
      "4    3.9 von 5\n",
      "Name: rating, dtype: object \n",
      "\n",
      "0    3.5 von 5\n",
      "1    4.7 von 5\n",
      "2    3.9 von 5\n",
      "3    4.6 von 5\n",
      "4    3.9 von 5\n",
      "Name: rating, dtype: object\n"
     ]
    }
   ],
   "source": [
    "# Extract values from 'rooms_area_price_raw' strings\n",
    "rooms = []\n",
    "for i in df['rating']:\n",
    "    d1 = re.findall('(.*)Sterne', i)\n",
    "    try:\n",
    "        d2 = d1[0].strip().replace(',', '.')\n",
    "    except:\n",
    "        d2 = None\n",
    "    rooms.append(d2)\n",
    "\n",
    "# Save as new variable in the pandas data frame\n",
    "df['rating'] = pd.Series(rooms)\n",
    "    \n",
    "# Print first 5 values\n",
    "print(df['rating'].head(5), '\\n')\n",
    "print(df['rating'].head(5))"
   ]
  },
  {
   "cell_type": "markdown",
   "id": "d7f049dc",
   "metadata": {},
   "source": [
    "### Extract living area"
   ]
  },
  {
   "cell_type": "code",
   "execution_count": 16,
   "id": "85bc7408",
   "metadata": {},
   "outputs": [
    {
     "name": "stdout",
     "output_type": "stream",
     "text": [
      "0      Fridolin 68066 Adressbuch Hokusai - Große Welle\n",
      "1     Winsor & Newton Universität Pinsel Kit (4 Stück)\n",
      "2    10 Stück Kreidetafel-Schild, 33 x 40,6 cm, gro...\n",
      "3    Sharpie Fluo XL Textmarker | Keilspitze | gemi...\n",
      "4    Original bunte Lesezeichen | Schöne Haftnotize...\n",
      "Name: title, dtype: object \n",
      "\n"
     ]
    }
   ],
   "source": [
    "# Extract values from 'rooms_area_price_raw' strings\n",
    "area = []\n",
    "for i in df['title']:\n",
    "    d1 = re.findall('Stifte, (.*) stifte', i)\n",
    "    try:\n",
    "        d2 = d1[0].strip()\n",
    "    except:\n",
    "        d2 = None\n",
    "    area.append(d2)\n",
    "\n",
    "\n",
    "# Print first 5 values\n",
    "print(df['title'].head(5), '\\n')"
   ]
  },
  {
   "cell_type": "markdown",
   "id": "319ca1bd",
   "metadata": {},
   "source": [
    "### Extract rental price"
   ]
  },
  {
   "cell_type": "code",
   "execution_count": 22,
   "id": "97bba5d3",
   "metadata": {
    "scrolled": true
   },
   "outputs": [
    {
     "ename": "TypeError",
     "evalue": "expected string or bytes-like object",
     "output_type": "error",
     "traceback": [
      "\u001b[1;31m---------------------------------------------------------------------------\u001b[0m",
      "\u001b[1;31mTypeError\u001b[0m                                 Traceback (most recent call last)",
      "\u001b[1;32m~\\AppData\\Local\\Temp/ipykernel_10136/1401770962.py\u001b[0m in \u001b[0;36m<module>\u001b[1;34m\u001b[0m\n\u001b[0;32m      2\u001b[0m \u001b[0mprice\u001b[0m \u001b[1;33m=\u001b[0m \u001b[1;33m[\u001b[0m\u001b[1;33m]\u001b[0m\u001b[1;33m\u001b[0m\u001b[1;33m\u001b[0m\u001b[0m\n\u001b[0;32m      3\u001b[0m \u001b[1;32mfor\u001b[0m \u001b[0mi\u001b[0m \u001b[1;32min\u001b[0m \u001b[0mdf\u001b[0m\u001b[1;33m[\u001b[0m\u001b[1;34m'price'\u001b[0m\u001b[1;33m]\u001b[0m\u001b[1;33m:\u001b[0m\u001b[1;33m\u001b[0m\u001b[1;33m\u001b[0m\u001b[0m\n\u001b[1;32m----> 4\u001b[1;33m     \u001b[0md1\u001b[0m \u001b[1;33m=\u001b[0m \u001b[0mre\u001b[0m\u001b[1;33m.\u001b[0m\u001b[0mfindall\u001b[0m\u001b[1;33m(\u001b[0m\u001b[1;34m'[0-9]+'\u001b[0m\u001b[1;33m,\u001b[0m \u001b[0mi\u001b[0m\u001b[1;33m)\u001b[0m\u001b[1;33m\u001b[0m\u001b[1;33m\u001b[0m\u001b[0m\n\u001b[0m\u001b[0;32m      5\u001b[0m     \u001b[1;32mtry\u001b[0m\u001b[1;33m:\u001b[0m\u001b[1;33m\u001b[0m\u001b[1;33m\u001b[0m\u001b[0m\n\u001b[0;32m      6\u001b[0m         \u001b[0md2\u001b[0m \u001b[1;33m=\u001b[0m \u001b[0md1\u001b[0m\u001b[1;33m[\u001b[0m\u001b[1;36m0\u001b[0m\u001b[1;33m]\u001b[0m\u001b[1;33m.\u001b[0m\u001b[0mstrip\u001b[0m\u001b[1;33m(\u001b[0m\u001b[1;33m)\u001b[0m\u001b[1;33m\u001b[0m\u001b[1;33m\u001b[0m\u001b[0m\n",
      "\u001b[1;32m~\\anaconda3\\lib\\re.py\u001b[0m in \u001b[0;36mfindall\u001b[1;34m(pattern, string, flags)\u001b[0m\n\u001b[0;32m    239\u001b[0m \u001b[1;33m\u001b[0m\u001b[0m\n\u001b[0;32m    240\u001b[0m     Empty matches are included in the result.\"\"\"\n\u001b[1;32m--> 241\u001b[1;33m     \u001b[1;32mreturn\u001b[0m \u001b[0m_compile\u001b[0m\u001b[1;33m(\u001b[0m\u001b[0mpattern\u001b[0m\u001b[1;33m,\u001b[0m \u001b[0mflags\u001b[0m\u001b[1;33m)\u001b[0m\u001b[1;33m.\u001b[0m\u001b[0mfindall\u001b[0m\u001b[1;33m(\u001b[0m\u001b[0mstring\u001b[0m\u001b[1;33m)\u001b[0m\u001b[1;33m\u001b[0m\u001b[1;33m\u001b[0m\u001b[0m\n\u001b[0m\u001b[0;32m    242\u001b[0m \u001b[1;33m\u001b[0m\u001b[0m\n\u001b[0;32m    243\u001b[0m \u001b[1;32mdef\u001b[0m \u001b[0mfinditer\u001b[0m\u001b[1;33m(\u001b[0m\u001b[0mpattern\u001b[0m\u001b[1;33m,\u001b[0m \u001b[0mstring\u001b[0m\u001b[1;33m,\u001b[0m \u001b[0mflags\u001b[0m\u001b[1;33m=\u001b[0m\u001b[1;36m0\u001b[0m\u001b[1;33m)\u001b[0m\u001b[1;33m:\u001b[0m\u001b[1;33m\u001b[0m\u001b[1;33m\u001b[0m\u001b[0m\n",
      "\u001b[1;31mTypeError\u001b[0m: expected string or bytes-like object"
     ]
    }
   ],
   "source": [
    "# Extract values from 'price_raw' strings\n",
    "price = []\n",
    "for i in df['price']:\n",
    "    d1 = re.findall('[0-9]+', i)\n",
    "    try:\n",
    "        d2 = d1[0].strip()\n",
    "    except:\n",
    "        d2 = None\n",
    "    price.append(d2)\n",
    "\n",
    "# Save as new variable in the pandas data frame\n",
    "df['price'] = pd.Series(price)\n",
    "\n",
    "# Print first 5 values\n",
    "print(df['price'].head(5), '\\n')\n",
    "print(df['price'].head(5))"
   ]
  },
  {
   "cell_type": "markdown",
   "id": "53c03c80",
   "metadata": {},
   "source": [
    "### Get data types of all variables including the new ones"
   ]
  },
  {
   "cell_type": "code",
   "execution_count": 29,
   "id": "e2bc73f4",
   "metadata": {
    "scrolled": true
   },
   "outputs": [
    {
     "data": {
      "text/html": [
       "<div>\n",
       "<style scoped>\n",
       "    .dataframe tbody tr th:only-of-type {\n",
       "        vertical-align: middle;\n",
       "    }\n",
       "\n",
       "    .dataframe tbody tr th {\n",
       "        vertical-align: top;\n",
       "    }\n",
       "\n",
       "    .dataframe thead th {\n",
       "        text-align: right;\n",
       "    }\n",
       "</style>\n",
       "<table border=\"1\" class=\"dataframe\">\n",
       "  <thead>\n",
       "    <tr style=\"text-align: right;\">\n",
       "      <th></th>\n",
       "      <th>title</th>\n",
       "      <th>instock</th>\n",
       "    </tr>\n",
       "  </thead>\n",
       "  <tbody>\n",
       "  </tbody>\n",
       "</table>\n",
       "</div>"
      ],
      "text/plain": [
       "Empty DataFrame\n",
       "Columns: [title, instock]\n",
       "Index: []"
      ]
     },
     "execution_count": 29,
     "metadata": {},
     "output_type": "execute_result"
    }
   ],
   "source": [
    "df.dtypes\n",
    "df.loc [df['rating'] == 4.5][['title', 'instock']]"
   ]
  },
  {
   "cell_type": "markdown",
   "id": "bad3c2d0",
   "metadata": {},
   "source": [
    "## Count and identify missing values (if any)"
   ]
  },
  {
   "cell_type": "code",
   "execution_count": 30,
   "id": "707adcf1",
   "metadata": {},
   "outputs": [
    {
     "name": "stdout",
     "output_type": "stream",
     "text": [
      "web-scraper-order          0\n",
      "web-scraper-start-url      0\n",
      "single                     0\n",
      "single-href                0\n",
      "title                      0\n",
      "price                    100\n",
      "info                      10\n",
      "rating                     0\n",
      "instock                   96\n",
      "asin                      32\n",
      "bestseller                46\n",
      "dimension                173\n",
      "img1-src                 246\n",
      "dtype: int64\n"
     ]
    },
    {
     "data": {
      "text/html": [
       "<div>\n",
       "<style scoped>\n",
       "    .dataframe tbody tr th:only-of-type {\n",
       "        vertical-align: middle;\n",
       "    }\n",
       "\n",
       "    .dataframe tbody tr th {\n",
       "        vertical-align: top;\n",
       "    }\n",
       "\n",
       "    .dataframe thead th {\n",
       "        text-align: right;\n",
       "    }\n",
       "</style>\n",
       "<table border=\"1\" class=\"dataframe\">\n",
       "  <thead>\n",
       "    <tr style=\"text-align: right;\">\n",
       "      <th></th>\n",
       "      <th>web-scraper-order</th>\n",
       "      <th>web-scraper-start-url</th>\n",
       "      <th>single</th>\n",
       "      <th>single-href</th>\n",
       "      <th>title</th>\n",
       "      <th>price</th>\n",
       "      <th>info</th>\n",
       "      <th>rating</th>\n",
       "      <th>instock</th>\n",
       "      <th>asin</th>\n",
       "      <th>bestseller</th>\n",
       "      <th>dimension</th>\n",
       "      <th>img1-src</th>\n",
       "    </tr>\n",
       "  </thead>\n",
       "  <tbody>\n",
       "    <tr>\n",
       "      <th>0</th>\n",
       "      <td>1669910832-1</td>\n",
       "      <td>https://www.amazon.de/s?k=university+supplies&amp;...</td>\n",
       "      <td>Fridolin 68066 Adressbuch Hokusai - Große Welle</td>\n",
       "      <td>https://www.amazon.de/Fridolin-68066-Adressbuc...</td>\n",
       "      <td>Fridolin 68066 Adressbuch Hokusai - Große Welle</td>\n",
       "      <td>8,66€</td>\n",
       "      <td>Motiv: Katsushika Hokusai - Große Welle</td>\n",
       "      <td>3.5 von 5</td>\n",
       "      <td>NaN</td>\n",
       "      <td>B00ALD6A2S</td>\n",
       "      <td>NaN</td>\n",
       "      <td>‎15 x 12.5 x 2 cm; 99.79 Gramm</td>\n",
       "      <td>NaN</td>\n",
       "    </tr>\n",
       "    <tr>\n",
       "      <th>1</th>\n",
       "      <td>1669910834-2</td>\n",
       "      <td>https://www.amazon.de/s?k=university+supplies&amp;...</td>\n",
       "      <td>Winsor &amp; Newton Universität Pinsel Kit (4 Stück)</td>\n",
       "      <td>https://www.amazon.de/Winsor-Newton-Universit%...</td>\n",
       "      <td>Winsor &amp; Newton Universität Pinsel Kit (4 Stück)</td>\n",
       "      <td>15,72€</td>\n",
       "      <td>Info zu diesem Artikel</td>\n",
       "      <td>4.7 von 5</td>\n",
       "      <td>NaN</td>\n",
       "      <td>B071F4WRZS</td>\n",
       "      <td>NaN</td>\n",
       "      <td>‎28 x 6 x 1.2 cm; 40 Gramm</td>\n",
       "      <td>NaN</td>\n",
       "    </tr>\n",
       "    <tr>\n",
       "      <th>2</th>\n",
       "      <td>1669910837-3</td>\n",
       "      <td>https://www.amazon.de/s?k=university+supplies&amp;...</td>\n",
       "      <td>10 Stück Kreidetafel-Schild, 33 x 40,6 cm, gro...</td>\n",
       "      <td>https://www.amazon.de/Kreidetafel-Schild-doppe...</td>\n",
       "      <td>10 Stück Kreidetafel-Schild, 33 x 40,6 cm, gro...</td>\n",
       "      <td>NaN</td>\n",
       "      <td>10 Stück Kreidetafel-Schilder: Die bunte Wimpe...</td>\n",
       "      <td>3.9 von 5</td>\n",
       "      <td>NaN</td>\n",
       "      <td>B0B19X5C5F</td>\n",
       "      <td>NaN</td>\n",
       "      <td>NaN</td>\n",
       "      <td>NaN</td>\n",
       "    </tr>\n",
       "    <tr>\n",
       "      <th>3</th>\n",
       "      <td>1669910840-4</td>\n",
       "      <td>https://www.amazon.de/s?k=university+supplies&amp;...</td>\n",
       "      <td>Sharpie Fluo XL Textmarker | Keilspitze | gemi...</td>\n",
       "      <td>https://www.amazon.de/Sharpie-Textmarker-Keils...</td>\n",
       "      <td>Sharpie Fluo XL Textmarker | Keilspitze | gemi...</td>\n",
       "      <td>10,40€</td>\n",
       "      <td>Info zu diesem Artikel</td>\n",
       "      <td>4.6 von 5</td>\n",
       "      <td>Nur noch 14 auf Lager</td>\n",
       "      <td>B00BWK90DK</td>\n",
       "      <td>Nr. 66,297 in Bürobedarf &amp; Schreibwaren (Siehe...</td>\n",
       "      <td>‎15 x 19.4 x 2.2 cm; 90 Gramm</td>\n",
       "      <td>NaN</td>\n",
       "    </tr>\n",
       "    <tr>\n",
       "      <th>4</th>\n",
       "      <td>1669910843-5</td>\n",
       "      <td>https://www.amazon.de/s?k=university+supplies&amp;...</td>\n",
       "      <td>Original bunte Lesezeichen | Schöne Haftnotize...</td>\n",
       "      <td>https://www.amazon.de/Lesezeichen-verschiedene...</td>\n",
       "      <td>Original bunte Lesezeichen | Schöne Haftnotize...</td>\n",
       "      <td>16,00€</td>\n",
       "      <td>Info zu diesem Artikel</td>\n",
       "      <td>3.9 von 5</td>\n",
       "      <td>Auf Lager.</td>\n",
       "      <td>B0B7TFN96Z</td>\n",
       "      <td>NaN</td>\n",
       "      <td>NaN</td>\n",
       "      <td>NaN</td>\n",
       "    </tr>\n",
       "    <tr>\n",
       "      <th>...</th>\n",
       "      <td>...</td>\n",
       "      <td>...</td>\n",
       "      <td>...</td>\n",
       "      <td>...</td>\n",
       "      <td>...</td>\n",
       "      <td>...</td>\n",
       "      <td>...</td>\n",
       "      <td>...</td>\n",
       "      <td>...</td>\n",
       "      <td>...</td>\n",
       "      <td>...</td>\n",
       "      <td>...</td>\n",
       "      <td>...</td>\n",
       "    </tr>\n",
       "    <tr>\n",
       "      <th>245</th>\n",
       "      <td>1669911603-246</td>\n",
       "      <td>https://www.amazon.de/s?k=university+supplies&amp;...</td>\n",
       "      <td>Wandkalender 2022 2023 von SmartPanda - Kalend...</td>\n",
       "      <td>https://www.amazon.de/Wandkalender-2022-2023-S...</td>\n",
       "      <td>Wandkalender 2022 2023 von SmartPanda - Kalend...</td>\n",
       "      <td>12,56€</td>\n",
       "      <td>Info zu diesem Artikel</td>\n",
       "      <td>4.6 von 5</td>\n",
       "      <td>NaN</td>\n",
       "      <td>B09MLSD1BH</td>\n",
       "      <td>Nr. 5,578 in Bürobedarf &amp; Schreibwaren (Siehe ...</td>\n",
       "      <td>NaN</td>\n",
       "      <td>NaN</td>\n",
       "    </tr>\n",
       "    <tr>\n",
       "      <th>246</th>\n",
       "      <td>1669911606-247</td>\n",
       "      <td>https://www.amazon.de/s?k=university+supplies&amp;...</td>\n",
       "      <td>Oxford Collegeblock A4 punktkariert/dotted, 80...</td>\n",
       "      <td>https://www.amazon.de/Oxford-400155143-Schule-...</td>\n",
       "      <td>Oxford Collegeblock A4 punktkariert/dotted, 80...</td>\n",
       "      <td>17,96€</td>\n",
       "      <td>Mit 80 Blatt (160 Seiten) bietet der Notizbloc...</td>\n",
       "      <td>4.8 von 5</td>\n",
       "      <td>Auf Lager.</td>\n",
       "      <td>B091FWJH7P</td>\n",
       "      <td>Nr. 1,752 in Bürobedarf &amp; Schreibwaren (Siehe ...</td>\n",
       "      <td>‎29.5 x 22 x 4.65 cm; 2.56 Kilogramm</td>\n",
       "      <td>NaN</td>\n",
       "    </tr>\n",
       "    <tr>\n",
       "      <th>247</th>\n",
       "      <td>1669911609-248</td>\n",
       "      <td>https://www.amazon.de/s?k=university+supplies&amp;...</td>\n",
       "      <td>TOYMYTOY Spiralblock Business Notizbuch Ringbu...</td>\n",
       "      <td>https://www.amazon.de/TOYMYTOY-Spiralblock-Not...</td>\n",
       "      <td>TOYMYTOY Spiralblock Business Notizbuch Ringbu...</td>\n",
       "      <td>NaN</td>\n",
       "      <td>Info zu diesem Artikel</td>\n",
       "      <td>4.0 von 5</td>\n",
       "      <td>Auf Lager.</td>\n",
       "      <td>B078XDK5MH</td>\n",
       "      <td>Nr. 34,336 in Bürobedarf &amp; Schreibwaren (Siehe...</td>\n",
       "      <td>NaN</td>\n",
       "      <td>NaN</td>\n",
       "    </tr>\n",
       "    <tr>\n",
       "      <th>248</th>\n",
       "      <td>1669911612-249</td>\n",
       "      <td>https://www.amazon.de/s?k=university+supplies&amp;...</td>\n",
       "      <td>SUPERTOOL Projekt-Notizblock, A5, lose Blätter...</td>\n",
       "      <td>https://www.amazon.de/Supertool-Projektnotizbl...</td>\n",
       "      <td>Wie bewerten Sie heute Ihre Erfahrung beim Kau...</td>\n",
       "      <td>NaN</td>\n",
       "      <td>NaN</td>\n",
       "      <td>3.5 von 5</td>\n",
       "      <td>Nur noch 18 auf Lager</td>\n",
       "      <td>NaN</td>\n",
       "      <td>NaN</td>\n",
       "      <td>NaN</td>\n",
       "      <td>NaN</td>\n",
       "    </tr>\n",
       "    <tr>\n",
       "      <th>249</th>\n",
       "      <td>1669911615-250</td>\n",
       "      <td>https://www.amazon.de/s?k=university+supplies&amp;...</td>\n",
       "      <td>Post-it Super Sticky Notes Soulful Collection,...</td>\n",
       "      <td>https://www.amazon.de/Post-Sticky-Soulful-Coll...</td>\n",
       "      <td>Post-it Super Sticky Notes Soulful Collection,...</td>\n",
       "      <td>15,88€</td>\n",
       "      <td>Info zu diesem Artikel</td>\n",
       "      <td>4.7 von 5</td>\n",
       "      <td>Nur noch 11 auf Lager</td>\n",
       "      <td>B09T6YJPF4</td>\n",
       "      <td>Nr. 15,929 in Bürobedarf &amp; Schreibwaren (Siehe...</td>\n",
       "      <td>‎7.6 x 7.6 x 6.1 cm; 247.1 Gramm</td>\n",
       "      <td>NaN</td>\n",
       "    </tr>\n",
       "  </tbody>\n",
       "</table>\n",
       "<p>250 rows × 13 columns</p>\n",
       "</div>"
      ],
      "text/plain": [
       "    web-scraper-order                              web-scraper-start-url  \\\n",
       "0        1669910832-1  https://www.amazon.de/s?k=university+supplies&...   \n",
       "1        1669910834-2  https://www.amazon.de/s?k=university+supplies&...   \n",
       "2        1669910837-3  https://www.amazon.de/s?k=university+supplies&...   \n",
       "3        1669910840-4  https://www.amazon.de/s?k=university+supplies&...   \n",
       "4        1669910843-5  https://www.amazon.de/s?k=university+supplies&...   \n",
       "..                ...                                                ...   \n",
       "245    1669911603-246  https://www.amazon.de/s?k=university+supplies&...   \n",
       "246    1669911606-247  https://www.amazon.de/s?k=university+supplies&...   \n",
       "247    1669911609-248  https://www.amazon.de/s?k=university+supplies&...   \n",
       "248    1669911612-249  https://www.amazon.de/s?k=university+supplies&...   \n",
       "249    1669911615-250  https://www.amazon.de/s?k=university+supplies&...   \n",
       "\n",
       "                                                single  \\\n",
       "0      Fridolin 68066 Adressbuch Hokusai - Große Welle   \n",
       "1     Winsor & Newton Universität Pinsel Kit (4 Stück)   \n",
       "2    10 Stück Kreidetafel-Schild, 33 x 40,6 cm, gro...   \n",
       "3    Sharpie Fluo XL Textmarker | Keilspitze | gemi...   \n",
       "4    Original bunte Lesezeichen | Schöne Haftnotize...   \n",
       "..                                                 ...   \n",
       "245  Wandkalender 2022 2023 von SmartPanda - Kalend...   \n",
       "246  Oxford Collegeblock A4 punktkariert/dotted, 80...   \n",
       "247  TOYMYTOY Spiralblock Business Notizbuch Ringbu...   \n",
       "248  SUPERTOOL Projekt-Notizblock, A5, lose Blätter...   \n",
       "249  Post-it Super Sticky Notes Soulful Collection,...   \n",
       "\n",
       "                                           single-href  \\\n",
       "0    https://www.amazon.de/Fridolin-68066-Adressbuc...   \n",
       "1    https://www.amazon.de/Winsor-Newton-Universit%...   \n",
       "2    https://www.amazon.de/Kreidetafel-Schild-doppe...   \n",
       "3    https://www.amazon.de/Sharpie-Textmarker-Keils...   \n",
       "4    https://www.amazon.de/Lesezeichen-verschiedene...   \n",
       "..                                                 ...   \n",
       "245  https://www.amazon.de/Wandkalender-2022-2023-S...   \n",
       "246  https://www.amazon.de/Oxford-400155143-Schule-...   \n",
       "247  https://www.amazon.de/TOYMYTOY-Spiralblock-Not...   \n",
       "248  https://www.amazon.de/Supertool-Projektnotizbl...   \n",
       "249  https://www.amazon.de/Post-Sticky-Soulful-Coll...   \n",
       "\n",
       "                                                 title   price  \\\n",
       "0      Fridolin 68066 Adressbuch Hokusai - Große Welle   8,66€   \n",
       "1     Winsor & Newton Universität Pinsel Kit (4 Stück)  15,72€   \n",
       "2    10 Stück Kreidetafel-Schild, 33 x 40,6 cm, gro...     NaN   \n",
       "3    Sharpie Fluo XL Textmarker | Keilspitze | gemi...  10,40€   \n",
       "4    Original bunte Lesezeichen | Schöne Haftnotize...  16,00€   \n",
       "..                                                 ...     ...   \n",
       "245  Wandkalender 2022 2023 von SmartPanda - Kalend...  12,56€   \n",
       "246  Oxford Collegeblock A4 punktkariert/dotted, 80...  17,96€   \n",
       "247  TOYMYTOY Spiralblock Business Notizbuch Ringbu...     NaN   \n",
       "248  Wie bewerten Sie heute Ihre Erfahrung beim Kau...     NaN   \n",
       "249  Post-it Super Sticky Notes Soulful Collection,...  15,88€   \n",
       "\n",
       "                                                  info     rating  \\\n",
       "0              Motiv: Katsushika Hokusai - Große Welle  3.5 von 5   \n",
       "1                               Info zu diesem Artikel  4.7 von 5   \n",
       "2    10 Stück Kreidetafel-Schilder: Die bunte Wimpe...  3.9 von 5   \n",
       "3                               Info zu diesem Artikel  4.6 von 5   \n",
       "4                               Info zu diesem Artikel  3.9 von 5   \n",
       "..                                                 ...        ...   \n",
       "245                             Info zu diesem Artikel  4.6 von 5   \n",
       "246  Mit 80 Blatt (160 Seiten) bietet der Notizbloc...  4.8 von 5   \n",
       "247                             Info zu diesem Artikel  4.0 von 5   \n",
       "248                                                NaN  3.5 von 5   \n",
       "249                             Info zu diesem Artikel  4.7 von 5   \n",
       "\n",
       "                   instock        asin  \\\n",
       "0                      NaN  B00ALD6A2S   \n",
       "1                      NaN  B071F4WRZS   \n",
       "2                      NaN  B0B19X5C5F   \n",
       "3    Nur noch 14 auf Lager  B00BWK90DK   \n",
       "4               Auf Lager.  B0B7TFN96Z   \n",
       "..                     ...         ...   \n",
       "245                    NaN  B09MLSD1BH   \n",
       "246             Auf Lager.  B091FWJH7P   \n",
       "247             Auf Lager.  B078XDK5MH   \n",
       "248  Nur noch 18 auf Lager         NaN   \n",
       "249  Nur noch 11 auf Lager  B09T6YJPF4   \n",
       "\n",
       "                                            bestseller  \\\n",
       "0                                                  NaN   \n",
       "1                                                  NaN   \n",
       "2                                                  NaN   \n",
       "3    Nr. 66,297 in Bürobedarf & Schreibwaren (Siehe...   \n",
       "4                                                  NaN   \n",
       "..                                                 ...   \n",
       "245  Nr. 5,578 in Bürobedarf & Schreibwaren (Siehe ...   \n",
       "246  Nr. 1,752 in Bürobedarf & Schreibwaren (Siehe ...   \n",
       "247  Nr. 34,336 in Bürobedarf & Schreibwaren (Siehe...   \n",
       "248                                                NaN   \n",
       "249  Nr. 15,929 in Bürobedarf & Schreibwaren (Siehe...   \n",
       "\n",
       "                                dimension img1-src  \n",
       "0          ‎15 x 12.5 x 2 cm; 99.79 Gramm      NaN  \n",
       "1              ‎28 x 6 x 1.2 cm; 40 Gramm      NaN  \n",
       "2                                     NaN      NaN  \n",
       "3           ‎15 x 19.4 x 2.2 cm; 90 Gramm      NaN  \n",
       "4                                     NaN      NaN  \n",
       "..                                    ...      ...  \n",
       "245                                   NaN      NaN  \n",
       "246  ‎29.5 x 22 x 4.65 cm; 2.56 Kilogramm      NaN  \n",
       "247                                   NaN      NaN  \n",
       "248                                   NaN      NaN  \n",
       "249      ‎7.6 x 7.6 x 6.1 cm; 247.1 Gramm      NaN  \n",
       "\n",
       "[250 rows x 13 columns]"
      ]
     },
     "execution_count": 30,
     "metadata": {},
     "output_type": "execute_result"
    }
   ],
   "source": [
    "# Count missing values\n",
    "print(pd.isna(df).sum())\n",
    "\n",
    "# Identify rows with missing values\n",
    "df[df.isna().any(axis=1)]"
   ]
  },
  {
   "cell_type": "markdown",
   "id": "92641a30",
   "metadata": {},
   "source": [
    "## Count and identify duplicated values (if any)"
   ]
  },
  {
   "cell_type": "code",
   "execution_count": 31,
   "id": "cc6214d8",
   "metadata": {},
   "outputs": [
    {
     "name": "stdout",
     "output_type": "stream",
     "text": [
      "0\n"
     ]
    },
    {
     "data": {
      "text/html": [
       "<div>\n",
       "<style scoped>\n",
       "    .dataframe tbody tr th:only-of-type {\n",
       "        vertical-align: middle;\n",
       "    }\n",
       "\n",
       "    .dataframe tbody tr th {\n",
       "        vertical-align: top;\n",
       "    }\n",
       "\n",
       "    .dataframe thead th {\n",
       "        text-align: right;\n",
       "    }\n",
       "</style>\n",
       "<table border=\"1\" class=\"dataframe\">\n",
       "  <thead>\n",
       "    <tr style=\"text-align: right;\">\n",
       "      <th></th>\n",
       "      <th>web-scraper-order</th>\n",
       "      <th>web-scraper-start-url</th>\n",
       "      <th>single</th>\n",
       "      <th>single-href</th>\n",
       "      <th>title</th>\n",
       "      <th>price</th>\n",
       "      <th>info</th>\n",
       "      <th>rating</th>\n",
       "      <th>instock</th>\n",
       "      <th>asin</th>\n",
       "      <th>bestseller</th>\n",
       "      <th>dimension</th>\n",
       "      <th>img1-src</th>\n",
       "    </tr>\n",
       "  </thead>\n",
       "  <tbody>\n",
       "  </tbody>\n",
       "</table>\n",
       "</div>"
      ],
      "text/plain": [
       "Empty DataFrame\n",
       "Columns: [web-scraper-order, web-scraper-start-url, single, single-href, title, price, info, rating, instock, asin, bestseller, dimension, img1-src]\n",
       "Index: []"
      ]
     },
     "execution_count": 31,
     "metadata": {},
     "output_type": "execute_result"
    }
   ],
   "source": [
    "# Count duplicated values\n",
    "print(df.duplicated().sum())\n",
    "\n",
    "# Identify rows with duplicated values, e.g.:\n",
    "df[df[['web-scraper-order', 'price', 'title']].duplicated()]"
   ]
  },
  {
   "cell_type": "markdown",
   "id": "165f8f9f",
   "metadata": {},
   "source": [
    "### Save data to file"
   ]
  },
  {
   "cell_type": "code",
   "execution_count": 32,
   "id": "3c2773d3",
   "metadata": {},
   "outputs": [],
   "source": [
    "df.to_csv('amazon_prepared.csv', \n",
    "          sep=\",\", \n",
    "          encoding='utf-8',\n",
    "          index=False)"
   ]
  },
  {
   "cell_type": "markdown",
   "id": "86257783",
   "metadata": {},
   "source": [
    "### Jupyter notebook --footer info-- (please always provide this at the end of each submitted notebook)"
   ]
  },
  {
   "cell_type": "code",
   "execution_count": 33,
   "id": "7f5bf8aa",
   "metadata": {},
   "outputs": [
    {
     "name": "stdout",
     "output_type": "stream",
     "text": [
      "-----------------------------------\n",
      "NT\n",
      "Windows | 10\n",
      "Datetime: 2022-12-01 17:42:17\n",
      "Python Version: 3.9.7\n",
      "-----------------------------------\n"
     ]
    }
   ],
   "source": [
    "import os\n",
    "import platform\n",
    "import socket\n",
    "from platform import python_version\n",
    "from datetime import datetime\n",
    "\n",
    "print('-----------------------------------')\n",
    "print(os.name.upper())\n",
    "print(platform.system(), '|', platform.release())\n",
    "print('Datetime:', datetime.now().strftime(\"%Y-%m-%d %H:%M:%S\"))\n",
    "print('Python Version:', python_version())\n",
    "print('-----------------------------------')"
   ]
  },
  {
   "cell_type": "code",
   "execution_count": null,
   "id": "c0aa184c",
   "metadata": {},
   "outputs": [],
   "source": []
  }
 ],
 "metadata": {
  "kernelspec": {
   "display_name": "Python 3 (ipykernel)",
   "language": "python",
   "name": "python3"
  },
  "language_info": {
   "codemirror_mode": {
    "name": "ipython",
    "version": 3
   },
   "file_extension": ".py",
   "mimetype": "text/x-python",
   "name": "python",
   "nbconvert_exporter": "python",
   "pygments_lexer": "ipython3",
   "version": "3.9.7"
  }
 },
 "nbformat": 4,
 "nbformat_minor": 5
}
