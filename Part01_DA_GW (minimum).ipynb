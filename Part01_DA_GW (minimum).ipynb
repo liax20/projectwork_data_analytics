{
 "cells": [
  {
   "cell_type": "markdown",
   "id": "6f506cef",
   "metadata": {},
   "source": [
    "#### (1) Data collection using both, Web Scraping and a Web API.\n",
    "#### (2) Data preparation (e.g. remove missing values and duplicates, create new variables, enrich the data with open data).\n",
    "#### (3) Data storage in a database like sqlite or MySQL.\n",
    "#### (4) Non-graphical and graphical exploratory data analysis (EDA).\n",
    "#### (5) Use of either regression or classification as the modelling method.\n",
    "#### (6) Model evaluation using suitable measures of fit.\n",
    "#### (7) Correct interpretation of model results and measures of fit.\n",
    "#### (8) Making the material (data, Jupyter notebooks, ...) available on Moodle."
   ]
  },
  {
   "cell_type": "code",
   "execution_count": 2,
   "id": "896ff623",
   "metadata": {},
   "outputs": [],
   "source": [
    "# Libraries\n",
    "import os\n",
    "import re\n",
    "import time\n",
    "import fnmatch\n",
    "import numpy as np\n",
    "import pandas as pd\n",
    "\n",
    "# test julia\n",
    "# Ignore warnings\n",
    "import warnings\n",
    "warnings.filterwarnings(\"ignore\")"
   ]
  },
  {
   "cell_type": "code",
   "execution_count": 3,
   "id": "145a8ac3",
   "metadata": {},
   "outputs": [
    {
     "name": "stdout",
     "output_type": "stream",
     "text": [
      "C:\\Workspace_ZHAW\\DA\\projectwork\n",
      "amazon_laptops.csv\n",
      "amazon_prepared.csv\n"
     ]
    }
   ],
   "source": [
    "# Get current working directory\n",
    "print(os.getcwd())\n",
    "\n",
    "# Show all files in the directory\n",
    "flist = fnmatch.filter(os.listdir('.'), '*.csv')\n",
    "for i in flist:\n",
    "    print(i)\n",
    "\n",
    "# Read the data to a pandas data frame\n",
    "df = pd.read_csv(\"amazon_laptops.csv\", sep=',', encoding='utf-8')"
   ]
  },
  {
   "cell_type": "code",
   "execution_count": 4,
   "id": "26610eaf",
   "metadata": {},
   "outputs": [
    {
     "name": "stdout",
     "output_type": "stream",
     "text": [
      "Dimension: (120, 14)\n",
      "Number of rows: 120\n",
      "Number of columns: 14\n"
     ]
    }
   ],
   "source": [
    "# Dimension (rows, columns)\n",
    "print('Dimension:', df.shape)\n",
    "\n",
    "# Number of rows\n",
    "print('Number of rows:', df.shape[0])\n",
    "\n",
    "# Number of columns\n",
    "print('Number of columns:', df.shape[1])"
   ]
  },
  {
   "cell_type": "code",
   "execution_count": 5,
   "id": "a6e6a472",
   "metadata": {},
   "outputs": [
    {
     "data": {
      "text/plain": [
       "web-scraper-order        object\n",
       "web-scraper-start-url    object\n",
       "single                   object\n",
       "single-href              object\n",
       "title_raw                object\n",
       "price_raw                object\n",
       "descr_raw                object\n",
       "brand_raw                object\n",
       "dimensions_raw           object\n",
       "colour_raw               object\n",
       "dissize_raw              object\n",
       "bestsellerranking_raw    object\n",
       "ranking_raw              object\n",
       "instock_raw              object\n",
       "dtype: object"
      ]
     },
     "execution_count": 5,
     "metadata": {},
     "output_type": "execute_result"
    }
   ],
   "source": [
    "# Get data types (note that in pandas, a string is referred to as 'object')\n",
    "df.dtypes"
   ]
  }
 ],
 "metadata": {
  "kernelspec": {
   "display_name": "Python 3 (ipykernel)",
   "language": "python",
   "name": "python3"
  },
  "language_info": {
   "codemirror_mode": {
    "name": "ipython",
    "version": 3
   },
   "file_extension": ".py",
   "mimetype": "text/x-python",
   "name": "python",
   "nbconvert_exporter": "python",
   "pygments_lexer": "ipython3",
   "version": "3.9.7"
  }
 },
 "nbformat": 4,
 "nbformat_minor": 5
}
