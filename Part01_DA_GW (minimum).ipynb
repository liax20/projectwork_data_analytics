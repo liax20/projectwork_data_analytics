{
 "cells": [
  {
   "cell_type": "markdown",
   "id": "6f506cef",
   "metadata": {},
   "source": [
    "#### (1) Data collection using both, Web Scraping and a Web API.\n",
    "#### (2) Data preparation (e.g. remove missing values and duplicates, create new variables, enrich the data with open data).\n",
    "#### (3) Data storage in a database like sqlite or MySQL.\n",
    "#### (4) Non-graphical and graphical exploratory data analysis (EDA).\n",
    "#### (5) Use of either regression or classification as the modelling method.\n",
    "#### (6) Model evaluation using suitable measures of fit.\n",
    "#### (7) Correct interpretation of model results and measures of fit.\n",
    "#### (8) Making the material (data, Jupyter notebooks, ...) available on Moodle."
   ]
  },
  {
   "cell_type": "markdown",
   "id": "4c684dd6",
   "metadata": {},
   "source": [
    "## Overpass turbo query to get all available supermarkets in Switzerland"
   ]
  },
  {
   "cell_type": "code",
   "execution_count": null,
   "id": "f0699210",
   "metadata": {},
   "outputs": [],
   "source": [
    "from pandas import json_normalize\n",
    "import requests\n",
    "import json\n",
    "\n",
    "# Overpass API URL\n",
    "url = 'http://overpass-api.de/api/interpreter'\n",
    "\n",
    "# Overpass turbo query\n",
    "query = f\"\"\"\n",
    "        [out:json];\n",
    "        area[\"ISO3166-1\"=\"CH\"][admin_level=2];\n",
    "        node [\"shop\"=\"supermarket\"](area);\n",
    "        out;\"\"\"\n",
    "\n",
    "# Web API request\n",
    "r = requests.get(url, params={'data': query})\n",
    "data = r.json()['elements']\n",
    "\n",
    "# Save data to file\n",
    "with open('supermarkets.json', 'w') as json_file:\n",
    "    json.dump(data, json_file)\n",
    "\n",
    "# Store data in data frame\n",
    "df = json_normalize(data)\n",
    "df.head(5)"
   ]
  },
  {
   "cell_type": "markdown",
   "id": "565c3ca8",
   "metadata": {},
   "source": [
    "## Plot supermarkets on map"
   ]
  },
  {
   "cell_type": "code",
   "execution_count": null,
   "id": "777dcb9d",
   "metadata": {},
   "outputs": [],
   "source": [
    "import folium\n",
    "import pandas as pd\n",
    "\n",
    "# Subset of supermarkets by brand\n",
    "locations = df[[\"lat\", \"lon\", \"tags.brand\", \"tags.shop\"]].loc[df[\"tags.brand\"] == 'Migros']\n",
    "print(locations.head(5))\n",
    "\n",
    "# Create map\n",
    "map = folium.Map(location=[locations.lat.mean(), \n",
    "                           locations.lon.mean()], \n",
    "                 zoom_start=8, \n",
    "                 control_scale=True)\n",
    "\n",
    "# Add maker symbols\n",
    "for index, location_info in locations.iterrows():\n",
    "    folium.Marker([location_info[\"lat\"], \n",
    "                   location_info[\"lon\"]], \n",
    "                  popup=location_info[\"tags.brand\"]).add_to(map)\n",
    "\n",
    "# Plot map\n",
    "map"
   ]
  }
 ],
 "metadata": {
  "kernelspec": {
   "display_name": "Python 3 (ipykernel)",
   "language": "python",
   "name": "python3"
  },
  "language_info": {
   "codemirror_mode": {
    "name": "ipython",
    "version": 3
   },
   "file_extension": ".py",
   "mimetype": "text/x-python",
   "name": "python",
   "nbconvert_exporter": "python",
   "pygments_lexer": "ipython3",
   "version": "3.9.7"
  }
 },
 "nbformat": 4,
 "nbformat_minor": 5
}
